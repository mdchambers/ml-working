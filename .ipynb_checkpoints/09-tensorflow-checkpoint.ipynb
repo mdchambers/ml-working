{
 "cells": [
  {
   "cell_type": "markdown",
   "metadata": {},
   "source": [
    "# Chapter 9: Up and Running with Tensorflow\n",
    "\n",
    "Define in python a graph of operations to perform. Tensorflow takes that graph and translates it to algorithms implemented in c++.\n",
    "\n",
    "Allows for computation to be highly parallelalized.\n",
    "\n",
    "Multiple APIs for interfacing with TF:\n",
    "\n",
    "- TF.learn2 (tensorflow.contrib.learn) : compatible with sklearn\n",
    "- TF-slim (tensorflow.contrib.slim) : simplified training, building, and defining of neural networks\n",
    "- Several other high-level APIs (keras, Pretty Tensor)\n",
    "- Main Python API for low-level functionality "
   ]
  }
 ],
 "metadata": {
  "kernelspec": {
   "display_name": "Python 3",
   "language": "python",
   "name": "python3"
  },
  "language_info": {
   "codemirror_mode": {
    "name": "ipython",
    "version": 3
   },
   "file_extension": ".py",
   "mimetype": "text/x-python",
   "name": "python",
   "nbconvert_exporter": "python",
   "pygments_lexer": "ipython3",
   "version": "3.6.5"
  }
 },
 "nbformat": 4,
 "nbformat_minor": 2
}
