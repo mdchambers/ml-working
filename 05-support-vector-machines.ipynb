{
 "cells": [
  {
   "cell_type": "markdown",
   "metadata": {},
   "source": [
    "# Chapter 5: Support Vector Machines\n",
    "\n",
    "## Linear SVM Classification\n",
    "\n",
    "Classifies by splitting groups by the largest possible linear separation\n",
    "\n",
    "Soft margin classification allows some outliers to be misclassified when identifying the best separation"
   ]
  },
  {
   "cell_type": "code",
   "execution_count": 1,
   "metadata": {},
   "outputs": [
    {
     "name": "stderr",
     "output_type": "stream",
     "text": [
      "/Users/mike/anaconda3/lib/python3.6/importlib/_bootstrap.py:219: RuntimeWarning: numpy.dtype size changed, may indicate binary incompatibility. Expected 96, got 88\n",
      "  return f(*args, **kwds)\n"
     ]
    }
   ],
   "source": [
    "import numpy as np\n",
    "from sklearn import datasets\n",
    "from sklearn.pipeline import Pipeline\n",
    "from sklearn.preprocessing import StandardScaler\n",
    "from sklearn.svm import LinearSVC\n",
    "\n",
    "iris = datasets.load_iris()\n",
    "x = iris[\"data\"][:, (2,3)]\n",
    "y = (iris[\"target\"] == 2).astype(np.float64)"
   ]
  },
  {
   "cell_type": "code",
   "execution_count": 4,
   "metadata": {},
   "outputs": [
    {
     "data": {
      "text/plain": [
       "Pipeline(memory=None,\n",
       "     steps=[('scaler', StandardScaler(copy=True, with_mean=True, with_std=True)), ('linear_svc', LinearSVC(C=1, class_weight=None, dual=True, fit_intercept=True,\n",
       "     intercept_scaling=1, loss='hinge', max_iter=1000, multi_class='ovr',\n",
       "     penalty='l2', random_state=None, tol=0.0001, verbose=0))])"
      ]
     },
     "execution_count": 4,
     "metadata": {},
     "output_type": "execute_result"
    }
   ],
   "source": [
    "svm_clf = Pipeline([\n",
    "    (\"scaler\", StandardScaler()),\n",
    "    (\"linear_svc\", LinearSVC(C=1, loss = \"hinge\"))\n",
    "])\n",
    "\n",
    "svm_clf.fit(x,y)"
   ]
  },
  {
   "cell_type": "code",
   "execution_count": 5,
   "metadata": {},
   "outputs": [
    {
     "data": {
      "text/plain": [
       "array([1.])"
      ]
     },
     "execution_count": 5,
     "metadata": {},
     "output_type": "execute_result"
    }
   ],
   "source": [
    "svm_clf.predict([[5.5,1.7]])"
   ]
  },
  {
   "cell_type": "markdown",
   "metadata": {},
   "source": [
    "## Nonlinear SVM Classification\n",
    "\n",
    "Add polynomial featues to the SVM to create a nonlinear classifier"
   ]
  },
  {
   "cell_type": "code",
   "execution_count": 7,
   "metadata": {},
   "outputs": [
    {
     "data": {
      "text/plain": [
       "Pipeline(memory=None,\n",
       "     steps=[('poly_features', PolynomialFeatures(degree=3, include_bias=True, interaction_only=False)), ('scaler', StandardScaler(copy=True, with_mean=True, with_std=True)), ('svm_clf', LinearSVC(C=10, class_weight=None, dual=True, fit_intercept=True,\n",
       "     intercept_scaling=1, loss='hinge', max_iter=1000, multi_class='ovr',\n",
       "     penalty='l2', random_state=None, tol=0.0001, verbose=0))])"
      ]
     },
     "execution_count": 7,
     "metadata": {},
     "output_type": "execute_result"
    }
   ],
   "source": [
    "from sklearn.datasets import make_moons\n",
    "from sklearn.pipeline import Pipeline\n",
    "from sklearn.preprocessing import PolynomialFeatures\n",
    "\n",
    "polynomial_svm_clf = Pipeline([\n",
    "    (\"poly_features\", PolynomialFeatures(degree = 3)),\n",
    "    (\"scaler\", StandardScaler()),\n",
    "    (\"svm_clf\", LinearSVC(C = 10, loss = \"hinge\"))\n",
    "])\n",
    "\n",
    "polynomial_svm_clf.fit(x,y)"
   ]
  },
  {
   "cell_type": "markdown",
   "metadata": {},
   "source": [
    "### Polynomial Kernel\n",
    "\n"
   ]
  },
  {
   "cell_type": "code",
   "execution_count": 119,
   "metadata": {},
   "outputs": [],
   "source": [
    "from sklearn.svm import SVC\n",
    "import matplotlib.pyplot as plt\n",
    "%matplotlib inline\n",
    "\n",
    "def plot_svm_curve(degree = 3):\n",
    "    moons = make_moons()\n",
    "    x = moons[0]\n",
    "    y = moons[1]\n",
    "    poly_kernel_svm_clf = Pipeline([\n",
    "        (\"scaler\", StandardScaler()),\n",
    "        (\"svm_clf\", SVC(kernel = \"poly\", degree = degree, coef0=1, C = 5))\n",
    "    ])\n",
    "\n",
    "    poly_kernel_svm_clf.fit(x,y)\n",
    "\n",
    "    grid_density = 100\n",
    "    #x_scale = StandardScaler().fit_transform(x)\n",
    "    x1lim = (0, max(x[:,0]))\n",
    "    x1steps = np.linspace(x1lim[0], x1lim[1], num = grid_density)\n",
    "    x2lim = (0, max(x[:,1]))\n",
    "    x2steps = np.linspace(x2lim[0], x2lim[1], num = grid_density)\n",
    "\n",
    "    dat = np.zeros((grid_density, grid_density))\n",
    "    for i, ix in enumerate(x1steps):\n",
    "        for j, jx, in enumerate(x2steps):\n",
    "            dat[i,j] = poly_kernel_svm_clf.predict([[ix,jx]])[0]\n",
    "    imgplt = plt.imshow(dat)\n",
    "    plt.scatter(x[:,0], x[:,1], c = y)\n"
   ]
  },
  {
   "cell_type": "code",
   "execution_count": 120,
   "metadata": {},
   "outputs": [
    {
     "data": {
      "image/png": "[encoded data removed]",
      "text/plain": [
       "<Figure size 432x288 with 1 Axes>"
      ]
     },
     "metadata": {},
     "output_type": "display_data"
    }
   ],
   "source": [
    "plot_svm_curve()"
   ]
  },
  {
   "cell_type": "code",
   "execution_count": 112,
   "metadata": {},
   "outputs": [
    {
     "data": {
      "image/png": "[encoded data removed]",
      "text/plain": [
       "<Figure size 432x288 with 1 Axes>"
      ]
     },
     "metadata": {},
     "output_type": "display_data"
    }
   ],
   "source": [
    "plot_svm_curve(degree = 5)"
   ]
  },
  {
   "cell_type": "code",
   "execution_count": null,
   "metadata": {},
   "outputs": [],
   "source": [
    "import pandas as pd\n",
    "import seaborn as sns\n",
    "## Reimplement plot_svm_curve using pandas data structures\n",
    "def plot_svm_curve_pd(degree = 3):\n",
    "    moons = make_moons()\n",
    "    x = moons[0]\n",
    "    y = moons[1]\n",
    "    poly_kernel_svm_clf = Pipeline([\n",
    "        (\"scaler\", StandardScaler()),\n",
    "        (\"svm_clf\", SVC(kernel = \"poly\", degree = degree, coef0=1, C = 5))\n",
    "    ])\n",
    "\n",
    "    poly_kernel_svm_clf.fit(x,y)\n",
    "    \n",
    "    \n",
    "        \n",
    "    grid_density = 100\n",
    "    #x_scale = StandardScaler().fit_transform(x)\n",
    "    x1lim = (0, max(x[:,0]))\n",
    "    x1steps = np.linspace(x1lim[0], x1lim[1], num = grid_density)\n",
    "    x2lim = (0, max(x[:,1]))\n",
    "    x2steps = np.linspace(x2lim[0], x2lim[1], num = grid_density)\n",
    "    \n",
    "    \n",
    "    \n",
    "    dat = pd.DataFrame({\n",
    "        'x' : x1steps,\n",
    "        'y' : x2steps\n",
    "    })\n",
    "    dat = np.zeros((grid_density, grid_density))\n",
    "    for i, ix in enumerate(x1steps):\n",
    "        for j, jx, in enumerate(x2steps):\n",
    "            dat[i,j] = poly_kernel_svm_clf.predict([[ix,jx]])[0]\n",
    "    imgplt = plt.imshow(dat)\n",
    "    plt.scatter(x[:,0], x[:,1], c = y)"
   ]
  },
  {
   "cell_type": "code",
   "execution_count": 163,
   "metadata": {},
   "outputs": [
    {
     "data": {
      "text/plain": [
       "<matplotlib.collections.PathCollection at 0x1a0fed6ba8>"
      ]
     },
     "execution_count": 163,
     "metadata": {},
     "output_type": "execute_result"
    },
    {
     "data": {
      "image/png": "[encoded data removed]",
      "text/plain": [
       "<Figure size 432x288 with 2 Axes>"
      ]
     },
     "metadata": {},
     "output_type": "display_data"
    }
   ],
   "source": [
    "import itertools\n",
    "\n",
    "degree = 3\n",
    "moons = make_moons()\n",
    "x = moons[0]\n",
    "y = moons[1]\n",
    "poly_kernel_svm_clf = Pipeline([\n",
    "    (\"scaler\", StandardScaler()),\n",
    "    (\"svm_clf\", SVC(kernel = \"poly\", degree = degree, coef0=1, C = 5))\n",
    "])\n",
    "\n",
    "poly_kernel_svm_clf.fit(x,y)\n",
    "\n",
    "\n",
    "\n",
    "grid_density = 100\n",
    "#x_scale = StandardScaler().fit_transform(x)\n",
    "x1lim = (min(x[:,0]), max(x[:,0]))\n",
    "x1steps = np.linspace(x1lim[0], x1lim[1], num = grid_density)\n",
    "x2lim = (min(x[:,1]), max(x[:,1]))\n",
    "x2steps = np.linspace(x2lim[0], x2lim[1], num = grid_density)\n",
    "\n",
    "steps = np.array(list(itertools.product(x1steps, x2steps)))\n",
    "dat = pd.DataFrame(steps, columns = [\"x1\", \"x2\"])\n",
    "\n",
    "func = lambda x: poly_kernel_svm_clf.predict([x])[0]\n",
    "dat[\"y_pred\"] = dat.apply(func, axis = 1)\n",
    "dat.plot.scatter(x = \"x1\", y = \"x2\", c = \"y_pred\")\n",
    "plt.scatter(x[:,0], x[:,1], c = y)"
   ]
  },
  {
   "cell_type": "code",
   "execution_count": null,
   "metadata": {},
   "outputs": [],
   "source": []
  }
 ],
 "metadata": {
  "kernelspec": {
   "display_name": "Python 3",
   "language": "python",
   "name": "python3"
  },
  "language_info": {
   "codemirror_mode": {
    "name": "ipython",
    "version": 3
   },
   "file_extension": ".py",
   "mimetype": "text/x-python",
   "name": "python",
   "nbconvert_exporter": "python",
   "pygments_lexer": "ipython3",
   "version": "3.6.5"
  }
 },
 "nbformat": 4,
 "nbformat_minor": 2
}
