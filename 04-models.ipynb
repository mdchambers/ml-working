{
 "cells": [
  {
   "cell_type": "markdown",
   "metadata": {},
   "source": [
    "# Chapter 4: Training Models\n",
    "\n",
    "## Linear Regression"
   ]
  },
  {
   "cell_type": "code",
   "execution_count": 112,
   "metadata": {},
   "outputs": [
    {
     "data": {
      "image/png": "[encoded data removed]",
      "text/plain": [
       "<Figure size 432x288 with 1 Axes>"
      ]
     },
     "metadata": {},
     "output_type": "display_data"
    }
   ],
   "source": [
    "import numpy as np\n",
    "import matplotlib.pyplot as plt\n",
    "%matplotlib inline\n",
    "\n",
    "x = 2 * np.random.rand(100, 1)\n",
    "y = 4 + 3 * x + np.random.randn(100,1)\n",
    "\n",
    "plt.scatter(x,y)\n",
    "plt.show()"
   ]
  },
  {
   "cell_type": "code",
   "execution_count": 9,
   "metadata": {},
   "outputs": [
    {
     "data": {
      "text/plain": [
       "array([[4.29952091],\n",
       "       [2.80287147]])"
      ]
     },
     "execution_count": 9,
     "metadata": {},
     "output_type": "execute_result"
    }
   ],
   "source": [
    "# Find the paramaters for a linear fit\n",
    "\n",
    "x_b = np.c_[np.ones((100,1)), x]\n",
    "theta_best = np.linalg.inv(x_b.T @ x_b ) @ x_b.T @ y\n",
    "theta_best"
   ]
  },
  {
   "cell_type": "code",
   "execution_count": 15,
   "metadata": {},
   "outputs": [
    {
     "data": {
      "text/plain": [
       "array([[4.29952091],\n",
       "       [9.90526384]])"
      ]
     },
     "execution_count": 15,
     "metadata": {},
     "output_type": "execute_result"
    }
   ],
   "source": [
    "# make predictions using this model\n",
    "\n",
    "x_new = np.array([[0], [2]])\n",
    "x_new_b = np.c_[np.ones((2,1)), x_new]\n",
    "y_pred = x_new_b @ theta_best\n",
    "y_pred"
   ]
  },
  {
   "cell_type": "code",
   "execution_count": 13,
   "metadata": {},
   "outputs": [
    {
     "data": {
      "image/png": "[encoded data removed]",
      "text/plain": [
       "<Figure size 432x288 with 1 Axes>"
      ]
     },
     "metadata": {},
     "output_type": "display_data"
    }
   ],
   "source": [
    "plt.plot(x_new, y_pred, \"r-\")\n",
    "plt.plot(x, y, \"b.\")\n",
    "plt.axis([0,2,0,15])\n",
    "plt.show()"
   ]
  },
  {
   "cell_type": "code",
   "execution_count": 14,
   "metadata": {},
   "outputs": [
    {
     "data": {
      "text/plain": [
       "array([[4.29952091],\n",
       "       [9.90526384]])"
      ]
     },
     "execution_count": 14,
     "metadata": {},
     "output_type": "execute_result"
    }
   ],
   "source": [
    "# Equivalent using sklearn\n",
    "\n",
    "from sklearn.linear_model import LinearRegression\n",
    "\n",
    "lin_reg = LinearRegression()\n",
    "lin_reg.fit(x, y)\n",
    "y_pred = lin_reg.predict(x_new)\n",
    "y_pred"
   ]
  },
  {
   "cell_type": "markdown",
   "metadata": {},
   "source": [
    "\n",
    "Computation complexitiy approx \n",
    "  * `O(n**3)` (n = number of features) (very slow if features > 100k)\n",
    "  * `O(m)` (m = number of instances)\n",
    "Requires all training data to fit in memory\n",
    "\n",
    "After training, predictions are very fast\n",
    "\n",
    "## Gradient Descent\n",
    "\n",
    "Measures local gradient of error function with regards to paramater vector theta and traverses in direction of steepest downward gradient\n",
    "\n",
    "Important paramaters:\n",
    "* random initialization (may influence whether algorithm gets stuck in a local minimum\n",
    "* learning rate (size of steps along gradient)\n",
    "\n",
    "Score function for linear regression is always convex (so no local minimum). Guarnteed to always reach arbitraily close to global minimum, given an appropriate learning rate. This can take a long time if all features aren't appropriately scaled beforehand.\n",
    "\n",
    "### Batch Gradient Descent\n",
    "\n",
    "Uses entire training set (i.e. in a batch) during each step\n",
    "Calculates the gradient vector made up of the partial derivates of the cost function in terms of each paramater in theta."
   ]
  },
  {
   "cell_type": "code",
   "execution_count": 17,
   "metadata": {},
   "outputs": [
    {
     "data": {
      "text/plain": [
       "array([[4.29952091],\n",
       "       [2.80287147]])"
      ]
     },
     "execution_count": 17,
     "metadata": {},
     "output_type": "execute_result"
    }
   ],
   "source": [
    "# Calculate the gradient vector\n",
    "\n",
    "eta = 0.1 # learning rate\n",
    "n_iterations = 1000\n",
    "m = 100\n",
    "\n",
    "theta = np.random.randn(2,1) #random initialization\n",
    "\n",
    "for iteration in range(n_iterations):\n",
    "    gradients = 2 / m * x_b.T @ ( x_b @ theta - y)\n",
    "    theta = theta - eta * gradients\n",
    "theta"
   ]
  },
  {
   "cell_type": "markdown",
   "metadata": {},
   "source": [
    "### Stochastic Gradient Descent\n",
    "\n",
    "Batch GD very slow when training set is very large\n",
    "\n",
    "Stochastic GD works on only one instance from the training set at a time, chosen at random.\n",
    "\n",
    "Less sensitive to local minimia since it jumps around randomly\n",
    "\n",
    "Does not stop when global minimum reached. Use `simulated annealing` with a `learning schedule` to reduce learning rate as global minimum is approached\n"
   ]
  },
  {
   "cell_type": "code",
   "execution_count": 19,
   "metadata": {},
   "outputs": [
    {
     "data": {
      "text/plain": [
       "array([[4.28177809],\n",
       "       [2.77623281]])"
      ]
     },
     "execution_count": 19,
     "metadata": {},
     "output_type": "execute_result"
    }
   ],
   "source": [
    "n_epochs = 50\n",
    "t0, t1 = 5, 50 # learning schedule hyper-params\n",
    "\n",
    "def learning_schedule(t):\n",
    "    return t0 / (t + t1)\n",
    "\n",
    "theta = np.random.randn(2,1) # random initialization\n",
    "\n",
    "for epoch in range(n_epochs):\n",
    "    for i in range(m):\n",
    "        random_index = np.random.randint(m)\n",
    "        xi = x_b[random_index:random_index + 1]\n",
    "        yi = y[random_index:random_index + 1]\n",
    "        gradients = 2 * xi.T @ ( xi @ theta - yi)\n",
    "        eta = learning_schedule(epoch * m + i)\n",
    "        theta = theta - eta * gradients\n",
    "\n",
    "theta"
   ]
  },
  {
   "cell_type": "code",
   "execution_count": 21,
   "metadata": {},
   "outputs": [
    {
     "name": "stdout",
     "output_type": "stream",
     "text": [
      "[4.33250548] [2.85798563]\n"
     ]
    }
   ],
   "source": [
    "# Using sklearn\n",
    "\n",
    "from sklearn.linear_model import SGDRegressor\n",
    "\n",
    "# Uses 50 epochs, no regularization (penalty) and learning rate of 0.1 (w/ default learning schedule)\n",
    "sgd_reg = SGDRegressor(n_iter = 50, penalty=None, eta0=0.1)\n",
    "sgd_reg.fit(x, y.ravel())\n",
    "print(sgd_reg.intercept_, sgd_reg.coef_)"
   ]
  },
  {
   "cell_type": "markdown",
   "metadata": {},
   "source": [
    "### Mini-batch gradient descent\n",
    "\n",
    "Intermediate technique between batch and pure stochastic GD\n",
    "\n",
    "Each step calculates gradients using a random sample of training set instances. This gives a speed boost derived from GPU acceleration of matrix operations.\n",
    "\n",
    "Algorithm |Large m | Out-of-core support | Large n | Hyperparams | Scaling required | Scikit-Learn\n",
    "- | - | - | - | - | \n",
    "Normal Equation | Fast | No | Slow | 0 | No | LinearRegression \n",
    "Batch GD | Slow | No | Fast | 2 | Yes | n/a | \n",
    "Stochastic GD | Fast | Yes | Fast | ≥2 | Yes | SGDRegressor | \n",
    "Mini-batch GD | Fast | Yes | Fast | ≥2 | Yes | SGDRegressor |\n",
    "\n",
    "## Polynomial Regression"
   ]
  },
  {
   "cell_type": "code",
   "execution_count": 23,
   "metadata": {},
   "outputs": [
    {
     "data": {
      "image/png": "[encoded data removed]",
      "text/plain": [
       "<Figure size 432x288 with 1 Axes>"
      ]
     },
     "metadata": {},
     "output_type": "display_data"
    }
   ],
   "source": [
    "m = 100\n",
    "x = 6 * np.random.rand(m, 1 ) - 3\n",
    "y = 0.5 * x ** 2 + x + 2 + np.random.randn(m, 1)\n",
    "\n",
    "plt.scatter(x,y)\n",
    "plt.show()"
   ]
  },
  {
   "cell_type": "code",
   "execution_count": 30,
   "metadata": {},
   "outputs": [],
   "source": [
    "from sklearn.preprocessing import PolynomialFeatures\n",
    "poly_features = PolynomialFeatures(degree = 2, include_bias = False)\n",
    "x_poly = poly_features.fit_transform(x)"
   ]
  },
  {
   "cell_type": "markdown",
   "metadata": {},
   "source": [
    "Features now include original data and square of data. Can fit linear model to the later feature"
   ]
  },
  {
   "cell_type": "code",
   "execution_count": 26,
   "metadata": {},
   "outputs": [
    {
     "name": "stdout",
     "output_type": "stream",
     "text": [
      "[1.99853019] [[0.96818302 0.50951219]]\n"
     ]
    }
   ],
   "source": [
    "from sklearn.linear_model import LinearRegression\n",
    "\n",
    "lin_reg = LinearRegression()\n",
    "lin_reg.fit(x_poly, y)\n",
    "print(lin_reg.intercept_, lin_reg.coef_)"
   ]
  },
  {
   "cell_type": "code",
   "execution_count": 80,
   "metadata": {},
   "outputs": [
    {
     "data": {
      "image/png": "[encoded data removed]",
      "text/plain": [
       "<Figure size 432x288 with 1 Axes>"
      ]
     },
     "metadata": {},
     "output_type": "display_data"
    }
   ],
   "source": [
    "\n",
    "x_sort = np.sort(x,0)\n",
    "x_poly_sort = poly_features.fit_transform(x_sort)\n",
    "y_pred = lin_reg.predict(x_poly_sort)\n",
    "\n",
    "plt.plot(x, y, 'b.')\n",
    "plt.plot(x_sort, y_pred, 'r-')\n",
    "plt.show()"
   ]
  },
  {
   "cell_type": "markdown",
   "metadata": {},
   "source": [
    "### Learning Curves"
   ]
  },
  {
   "cell_type": "code",
   "execution_count": 102,
   "metadata": {},
   "outputs": [
    {
     "data": {
      "image/png": "[encoded data removed]",
      "text/plain": [
       "<Figure size 720x360 with 1 Axes>"
      ]
     },
     "metadata": {},
     "output_type": "display_data"
    }
   ],
   "source": [
    "from sklearn.metrics import mean_squared_error\n",
    "from sklearn.model_selection import train_test_split\n",
    "\n",
    "def plot_learning_curves(model, X, y, ymax = None):\n",
    "    X_train, X_val, y_train, y_val = train_test_split(X, y, test_size=0.2)\n",
    "    train_errors, val_errors = [], []\n",
    "    for m in range(1, len(X_train)):\n",
    "        model.fit(X_train[:m], y_train[:m])\n",
    "        y_train_predict = model.predict(X_train[:m])\n",
    "        y_val_predict = model.predict(X_val)\n",
    "        train_errors.append(mean_squared_error(y_train_predict, y_train[:m]))\n",
    "        val_errors.append(mean_squared_error(y_val_predict, y_val))\n",
    "    plt.figure(figsize = (10, 5))\n",
    "    plt.plot(np.sqrt(train_errors), \"r-+\", linewidth=2, label=\"Training Set\")\n",
    "    plt.plot(np.sqrt(val_errors), \"b-\", linewidth=3, label=\"Validation Set\")\n",
    "    plt.legend()\n",
    "    plt.xlabel(\"Training set size\")\n",
    "    plt.ylabel(\"RMSE\")\n",
    "    if ymax:\n",
    "        plt.ylim((0, ymax))\n",
    "    \n",
    "lin_reg = LinearRegression()\n",
    "plot_learning_curves(lin_reg, x, y)"
   ]
  },
  {
   "cell_type": "markdown",
   "metadata": {},
   "source": [
    "Characteristic of an underfititng model (both curves plateau rather high).\n",
    "\n",
    "Try to overfit using 10th degree polynomial"
   ]
  },
  {
   "cell_type": "code",
   "execution_count": 111,
   "metadata": {},
   "outputs": [
    {
     "data": {
      "image/png": "[encoded data removed]",
      "text/plain": [
       "<Figure size 720x360 with 1 Axes>"
      ]
     },
     "metadata": {},
     "output_type": "display_data"
    }
   ],
   "source": [
    "from sklearn.pipeline import Pipeline\n",
    "\n",
    "polynomial_regression = Pipeline([\n",
    "    (\"poly_features\", PolynomialFeatures(degree = 10, include_bias = False)),\n",
    "    (\"lin_reg\", LinearRegression()),\n",
    "])\n",
    "\n",
    "plot_learning_curves(polynomial_regression, x, y, ymax = 3)"
   ]
  },
  {
   "cell_type": "markdown",
   "metadata": {},
   "source": [
    "Indicators of overfitting: \n",
    "\n",
    "* Error on training set lower than w/ linear model\n",
    "* Errors never converge (validation set plateaus higher\n",
    "\n",
    "Bias/Variance tradeoff\n",
    "\n",
    "* Bias : Error due to wrong assumptions about relationship between variables, or data distribution\n",
    "* Variance : Error due to extreme sensitivity to variatin in training set\n",
    "* Irreducible error : Error due to noisiness in training data\n",
    "\n",
    "More complex models decrease bias but increase variance, typically\n",
    "\n",
    "### Regularized Linear Models\n",
    "\n",
    "To reduce overfitting, regularize (constrain) the model.\n",
    "\n",
    "For polynomial models, reduce degrees of freedom\n",
    "For linear models, constrain model weights\n",
    "\n",
    "#### Ridge regression (Tikhonov regression)\n",
    "\n",
    "A regularization term equal to the sum of the squares of the model coefficients is added to the cost equation. Forces model to minimize weights.\n",
    "\n",
    "Use only during training, not validation or in production\n",
    "\n",
    "Ridge regression cost function: \n",
    "\n",
    "\n",
    "\\begin{align}\n",
    "\\large\n",
    "J(\\theta) = MSE(\\theta) + \\alpha\\frac{1}{2}\\sum_{i=1}^{n} \\theta_{i}^2\n",
    "\\end{align}\n",
    "\n",
    "\n"
   ]
  },
  {
   "cell_type": "code",
   "execution_count": 114,
   "metadata": {},
   "outputs": [
    {
     "data": {
      "text/plain": [
       "array([[8.26067403]])"
      ]
     },
     "execution_count": 114,
     "metadata": {},
     "output_type": "execute_result"
    }
   ],
   "source": [
    "# Using a closed-form solution\n",
    "\n",
    "from sklearn.linear_model import Ridge\n",
    "ridge_reg = Ridge(alpha = 1, solver = \"cholesky\")\n",
    "ridge_reg.fit(x, y)\n",
    "ridge_reg.predict([[1.5]])"
   ]
  },
  {
   "cell_type": "code",
   "execution_count": 120,
   "metadata": {},
   "outputs": [
    {
     "name": "stderr",
     "output_type": "stream",
     "text": [
      "/Users/mike/anaconda3/lib/python3.6/site-packages/sklearn/linear_model/stochastic_gradient.py:128: FutureWarning: max_iter and tol parameters have been added in <class 'sklearn.linear_model.stochastic_gradient.SGDRegressor'> in 0.19. If both are left unset, they default to max_iter=5 and tol=None. If tol is not None, max_iter defaults to max_iter=1000. From 0.21, default max_iter will be 1000, and default tol will be 1e-3.\n",
      "  \"and default tol will be 1e-3.\" % type(self), FutureWarning)\n"
     ]
    },
    {
     "data": {
      "text/plain": [
       "array([8.15912247])"
      ]
     },
     "execution_count": 120,
     "metadata": {},
     "output_type": "execute_result"
    }
   ],
   "source": [
    "# Using SGD\n",
    "\n",
    "sgd_reg = SGDRegressor(penalty = \"l2\")\n",
    "sgd_reg.fit(x, y.ravel())\n",
    "sgd_reg.predict([[1.5]])"
   ]
  },
  {
   "cell_type": "markdown",
   "metadata": {},
   "source": [
    "#### Lasso Regression \n",
    "\n",
    "Least Absolute Shrinkate and Selection Operator (LASSO) Regression\n",
    "\n",
    "Similar to ridge regression but uses the $\\ell_1$ norm of the weight vector instead of $\\frac{1}{2}{\\ell_2}^2$\n",
    "\n",
    "Cost function:\n",
    "\n",
    "$$\n",
    "\\large\n",
    "J(\\theta) = MSE(\\theta) + \\alpha\\sum_{i=1}^{n} |\\theta_i|\n",
    "$$\n",
    "\n",
    "Tends to eliminate weights of least important factors\n"
   ]
  },
  {
   "cell_type": "code",
   "execution_count": 121,
   "metadata": {},
   "outputs": [
    {
     "data": {
      "text/plain": [
       "array([8.17616471])"
      ]
     },
     "execution_count": 121,
     "metadata": {},
     "output_type": "execute_result"
    }
   ],
   "source": [
    "from sklearn.linear_model import Lasso\n",
    "lasso_reg = Lasso(alpha = 0.1)\n",
    "lasso_reg.fit(x, y)\n",
    "lasso_reg.predict([[1.5]])"
   ]
  },
  {
   "cell_type": "code",
   "execution_count": 122,
   "metadata": {},
   "outputs": [
    {
     "name": "stderr",
     "output_type": "stream",
     "text": [
      "/Users/mike/anaconda3/lib/python3.6/site-packages/sklearn/linear_model/stochastic_gradient.py:128: FutureWarning: max_iter and tol parameters have been added in <class 'sklearn.linear_model.stochastic_gradient.SGDRegressor'> in 0.19. If both are left unset, they default to max_iter=5 and tol=None. If tol is not None, max_iter defaults to max_iter=1000. From 0.21, default max_iter will be 1000, and default tol will be 1e-3.\n",
      "  \"and default tol will be 1e-3.\" % type(self), FutureWarning)\n"
     ]
    },
    {
     "data": {
      "text/plain": [
       "array([8.16890328])"
      ]
     },
     "execution_count": 122,
     "metadata": {},
     "output_type": "execute_result"
    }
   ],
   "source": [
    "# Using SGD\n",
    "\n",
    "sgd_reg = SGDRegressor(penalty = \"l1\")\n",
    "sgd_reg.fit(x, y.ravel())\n",
    "sgd_reg.predict([[1.5]])"
   ]
  },
  {
   "cell_type": "markdown",
   "metadata": {},
   "source": [
    "#### Elastic net\n",
    "\n",
    "Simple mixture of ridge and lasso regression, using a mix ration *r*.\n",
    "*r* = 0 -> eq to ridge regression\n",
    "*r* = 1 -> eq to lasso regression\n",
    "\n",
    "$$\n",
    "\\large\n",
    "J(\\theta) = MSE(\\theta) + r\\alpha\\sum_{i=1}^{n}|\\theta_{i}| + \\frac{1 - r}{2}\\alpha\\sum_{i=1}^{n} \\theta_i^2\n",
    "$$\n",
    "\n",
    "Should generally always use some regulariation when dealing with linear regression.\n",
    "\n",
    "Implemented in `sklearn.linear_model.ElasticNet`. l1_ratio argument corresponds to *r*\n",
    "\n",
    "Ridge is a good default\n",
    "Lasso if you suspect only some features are useful\n",
    "Elastic net generally prefered over lasso as it handles correlated features and large numbers of features cmpared to size of training set better"
   ]
  },
  {
   "cell_type": "markdown",
   "metadata": {},
   "source": [
    "### Early stopping\n",
    "\n",
    "Stop training as soon as RMSE reaches a minimum"
   ]
  },
  {
   "cell_type": "code",
   "execution_count": 147,
   "metadata": {},
   "outputs": [
    {
     "name": "stdout",
     "output_type": "stream",
     "text": [
      "71\n"
     ]
    }
   ],
   "source": [
    "from sklearn.base import clone\n",
    "from sklearn.preprocessing import StandardScaler\n",
    "\n",
    "poly_scaler = Pipeline([\n",
    "    (\"poly_features\", PolynomialFeatures(degree=90, include_bias=False)),\n",
    "    (\"std_scaler\", StandardScaler())\n",
    "])\n",
    "\n",
    "x_train, x_val, y_train, y_val = train_test_split(x,y, test_size = 0.2, random_state = 2251)\n",
    "x_train_poly_scaled = poly_scaler.fit_transform(x_train)\n",
    "x_val_poly_scaled= poly_scaler.transform(x_val)\n",
    "\n",
    "sgd_reg = SGDRegressor(max_iter = 1, warm_start = True, penalty = None,\n",
    "                      learning_rate=\"constant\", eta0=0.0005, random_state=589)\n",
    "\n",
    "minimum_val_error = float(\"inf\")\n",
    "best_epoch = None\n",
    "best_model = None\n",
    "for epoch in range(1000):\n",
    "    sgd_reg.fit(x_train_poly_scaled, y_train.ravel())\n",
    "    y_val_predict = sgd_reg.predict(x_val_poly_scaled)\n",
    "    val_error = mean_squared_error(y_val_predict, y_val)\n",
    "    if val_error < minimum_val_error:\n",
    "        minimum_val_error = val_error\n",
    "        best_epoch = epoch\n",
    "        best_model = clone(sgd_reg)\n",
    "print(best_epoch)"
   ]
  },
  {
   "cell_type": "markdown",
   "metadata": {},
   "source": [
    "### Logistic (Logit) Regression\n",
    "\n",
    "Binary classification using linear regression.\n",
    "\n",
    "Calculates weighted sum of input featues, as in linear regression. But instead of outputting the result directly, it outputs the logistic of this result.\n",
    "\n",
    "$$\n",
    "\\large\n",
    "\\hat{p} = h_\\theta(\\textbf{x}) = \\sigma(\\theta^{T}\\cdot\\textbf{x})\n",
    "$$\n",
    "\n",
    "Logistic, denoted $\\sigma(\\cdot)$, is a sigmoidal function (S-shaped) between (0,1).\n",
    "\n",
    "$$\n",
    "\\large\n",
    "\\sigma(t) = \\frac{1}{1 + e^{-t}}\n",
    "$$\n",
    "\n",
    "Predicts y to be 1 or 0 if $\\hat{p}$ >= 0.5 or < 0.5, respectively"
   ]
  },
  {
   "cell_type": "markdown",
   "metadata": {},
   "source": [
    "$$\n",
    "\\large\n",
    "c(\\theta)=\\left\\{\n",
    "\\begin{array}{c l}\t\n",
    "     -log(\\hat{p}) &\\text{ if } y = 1,\\\\\n",
    "     -log(1 - \\hat{p}) &\\text{ if } y = 0.\n",
    "\\end{array}\\right.\n",
    "$$\n",
    "\n",
    "Cost becomes high if gives probabilites near zero, and zero as probabilities become near 1 and -1 for positive and negative instances\n",
    "\n",
    "Cost function is the average cost over all training instances\n",
    "\n",
    "$$\n",
    "J(\\theta) = -\\frac{1}{m}\\sum_{i=1}^{m}[y^{(i)}log(\\hat{p}^{(i)}) + (1 -y^{(i)})log(1 - \\hat{p}^{(i)})]\n",
    "$$\n",
    "\n",
    "There's no closed solution, but derivatie is convex so can always be solved by gradient descent.\n",
    "\n",
    "### Decision boundaries\n",
    "\n",
    "Analyze the iris dataset using a logistic classifier"
   ]
  },
  {
   "cell_type": "code",
   "execution_count": 150,
   "metadata": {},
   "outputs": [
    {
     "data": {
      "text/plain": [
       "['data', 'target', 'target_names', 'DESCR', 'feature_names']"
      ]
     },
     "execution_count": 150,
     "metadata": {},
     "output_type": "execute_result"
    }
   ],
   "source": [
    "from sklearn import datasets\n",
    "\n",
    "iris = datasets.load_iris()\n",
    "list(iris.keys())"
   ]
  },
  {
   "cell_type": "code",
   "execution_count": 158,
   "metadata": {},
   "outputs": [],
   "source": [
    "x = iris[\"data\"][:,3:] #petal width\n",
    "y = (iris[\"target\"] == 2).astype(np.int) # 1 if iris-virginica, else 0"
   ]
  },
  {
   "cell_type": "code",
   "execution_count": 160,
   "metadata": {},
   "outputs": [
    {
     "data": {
      "text/plain": [
       "LogisticRegression(C=1.0, class_weight=None, dual=False, fit_intercept=True,\n",
       "          intercept_scaling=1, max_iter=100, multi_class='ovr', n_jobs=1,\n",
       "          penalty='l2', random_state=None, solver='liblinear', tol=0.0001,\n",
       "          verbose=0, warm_start=False)"
      ]
     },
     "execution_count": 160,
     "metadata": {},
     "output_type": "execute_result"
    }
   ],
   "source": [
    "from sklearn.linear_model import LogisticRegression\n",
    "\n",
    "log_reg = LogisticRegression()\n",
    "log_reg.fit(x,y)"
   ]
  },
  {
   "cell_type": "code",
   "execution_count": 165,
   "metadata": {},
   "outputs": [
    {
     "data": {
      "image/png": "[encoded data removed]",
      "text/plain": [
       "<Figure size 432x288 with 1 Axes>"
      ]
     },
     "metadata": {},
     "output_type": "display_data"
    }
   ],
   "source": [
    "x_new = np.linspace(0,3,1000).reshape(-1,1)\n",
    "y_proba = log_reg.predict_proba(x_new)\n",
    "plt.plot(x_new, y_proba[:,1], \"g-\", label = \"Iris-Virginica\")\n",
    "plt.plot(x_new, y_proba[:,0], \"b--\", label = \"Not Iris_Virginica\")\n",
    "plt.legend()\n",
    "plt.xlabel(\"Petal width\") \n",
    "plt.ylabel(\"probability\")\n",
    "plt.show()"
   ]
  },
  {
   "cell_type": "markdown",
   "metadata": {},
   "source": [
    "### Softmax Regression\n",
    "\n",
    "Logistic regressors can be trained to be multiclassifiers using softmax or multinomial logistic regression "
   ]
  }
 ],
 "metadata": {
  "kernelspec": {
   "display_name": "Python 3",
   "language": "python",
   "name": "python3"
  },
  "language_info": {
   "codemirror_mode": {
    "name": "ipython",
    "version": 3
   },
   "file_extension": ".py",
   "mimetype": "text/x-python",
   "name": "python",
   "nbconvert_exporter": "python",
   "pygments_lexer": "ipython3",
   "version": "3.6.5"
  }
 },
 "nbformat": 4,
 "nbformat_minor": 2
}
