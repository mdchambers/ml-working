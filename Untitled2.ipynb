{
 "cells": [
  {
   "cell_type": "code",
   "execution_count": 1,
   "metadata": {},
   "outputs": [],
   "source": [
    "import tensorflow as tf\n",
    "import numpy as np"
   ]
  },
  {
   "cell_type": "code",
   "execution_count": 44,
   "metadata": {},
   "outputs": [],
   "source": [
    "x = tf.constant(np.random.rand(50) * 100, shape=(10,5), dtype=tf.float32)\n",
    "x_norm = tf.linalg.l2_normalize(x, axis=0)"
   ]
  },
  {
   "cell_type": "code",
   "execution_count": 45,
   "metadata": {},
   "outputs": [
    {
     "name": "stdout",
     "output_type": "stream",
     "text": [
      "[[47.066505  64.12626   17.895382  49.706356  37.375835 ]\n",
      " [91.80648   64.28333   90.04908   43.42086   13.416464 ]\n",
      " [61.502457  95.91741   37.17186    5.133731   4.072361 ]\n",
      " [95.570404  35.84192    1.1094595 34.434334   6.73772  ]\n",
      " [73.919785  16.326208  46.159138  69.41198   49.184074 ]\n",
      " [71.39685   61.05773   45.15526   43.007774  95.20043  ]\n",
      " [21.3624     4.4625974 82.67096   83.85283   24.8504   ]\n",
      " [39.45378   35.143887  28.241964  10.188972  53.5766   ]\n",
      " [44.32868   39.499607   2.8615344 40.931396  36.172714 ]\n",
      " [37.658134  78.984795  32.363     99.21352   47.512276 ]]\n",
      "[[0.23676421 0.3597282  0.11885604 0.28281683 0.26313832]\n",
      " [0.46182498 0.36060932 0.59808034 0.24705392 0.09445637]\n",
      " [0.3093831  0.53806657 0.24688491 0.02920965 0.02867077]\n",
      " [0.4807591  0.2010619  0.00736871 0.1959228  0.04743579]\n",
      " [0.37184742 0.0915849  0.30657586 0.39493695 0.34627223]\n",
      " [0.359156   0.3425147  0.29990837 0.24470356 0.6702427 ]\n",
      " [0.10746181 0.02503377 0.549077   0.47710177 0.17495508]\n",
      " [0.19846903 0.19714616 0.18757509 0.05797273 0.3771971 ]\n",
      " [0.2229918  0.2215804  0.0190055  0.23288949 0.25466794]\n",
      " [0.18943617 0.4430799  0.21494582 0.5645003  0.33450222]]\n"
     ]
    }
   ],
   "source": [
    "with tf.Session() as sess:\n",
    "    x_eval = x.eval()\n",
    "    x_norm_eval = x_norm.eval()\n",
    "print(x_eval)\n",
    "print(x_norm_eval)\n",
    "\n"
   ]
  },
  {
   "cell_type": "code",
   "execution_count": 46,
   "metadata": {},
   "outputs": [
    {
     "name": "stdout",
     "output_type": "stream",
     "text": [
      "[584.0655  495.64374 383.67764 479.30176 368.09888]\n",
      "[2.9380934 2.780406  2.5482776 2.727108  2.5915387]\n"
     ]
    }
   ],
   "source": [
    "print(np.sum(x_eval, 0))\n",
    "print(np.sum(x_norm_eval, 0))"
   ]
  },
  {
   "cell_type": "code",
   "execution_count": 47,
   "metadata": {},
   "outputs": [
    {
     "name": "stdout",
     "output_type": "stream",
     "text": [
      "[216.17035 302.97623 203.7978  173.69383 255.00119 315.81805 217.19919\n",
      " 166.60521 163.79393 295.73172]\n",
      "[1.2613035  1.7620248  1.152215   0.9325483  1.5112174  1.9165254\n",
      " 1.3336295  1.0183601  0.95113516 1.7464643 ]\n"
     ]
    }
   ],
   "source": [
    "print(np.sum(x_eval, 1))\n",
    "print(np.sum(x_norm_eval, 1))"
   ]
  },
  {
   "cell_type": "code",
   "execution_count": null,
   "metadata": {},
   "outputs": [],
   "source": []
  }
 ],
 "metadata": {
  "kernelspec": {
   "display_name": "Python 3",
   "language": "python",
   "name": "python3"
  },
  "language_info": {
   "codemirror_mode": {
    "name": "ipython",
    "version": 3
   },
   "file_extension": ".py",
   "mimetype": "text/x-python",
   "name": "python",
   "nbconvert_exporter": "python",
   "pygments_lexer": "ipython3",
   "version": "3.7.4"
  }
 },
 "nbformat": 4,
 "nbformat_minor": 4
}
